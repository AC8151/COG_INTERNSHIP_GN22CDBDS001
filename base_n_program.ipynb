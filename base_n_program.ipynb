{
  "nbformat": 4,
  "nbformat_minor": 0,
  "metadata": {
    "colab": {
      "name": "base-n-program.ipynb",
      "provenance": [],
      "authorship_tag": "ABX9TyPZNftj9sFjxFFpx78wWNHN",
      "include_colab_link": true
    },
    "kernelspec": {
      "name": "python3",
      "display_name": "Python 3"
    },
    "language_info": {
      "name": "python"
    }
  },
  "cells": [
    {
      "cell_type": "markdown",
      "metadata": {
        "id": "view-in-github",
        "colab_type": "text"
      },
      "source": [
        "<a href=\"https://colab.research.google.com/github/AC8151/COG_INTERNSHIP_GN22CDBDS001/blob/main/base_n_program.ipynb\" target=\"_parent\"><img src=\"https://colab.research.google.com/assets/colab-badge.svg\" alt=\"Open In Colab\"/></a>"
      ]
    },
    {
      "cell_type": "code",
      "execution_count": 1,
      "metadata": {
        "colab": {
          "base_uri": "https://localhost:8080/"
        },
        "id": "rNFRwAwxysgr",
        "outputId": "ce7ea6e5-d84d-4cd1-8ba4-cd4e43f23764"
      },
      "outputs": [
        {
          "output_type": "stream",
          "name": "stdout",
          "text": [
            "Enter Base N : 2\n",
            "0\n",
            "1\n",
            "10\n",
            "11\n",
            "100\n",
            "101\n",
            "110\n",
            "111\n",
            "1000\n",
            "1001\n",
            "1010\n",
            "1011\n",
            "1100\n",
            "1101\n",
            "1110\n",
            "1111\n",
            "10000\n",
            "10001\n",
            "10010\n",
            "10011\n",
            "10100\n",
            "10101\n",
            "10110\n",
            "10111\n",
            "11000\n",
            "11001\n",
            "11010\n",
            "11011\n",
            "11100\n",
            "11101\n",
            "11110\n",
            "11111\n",
            "100000\n",
            "100001\n",
            "100010\n",
            "100011\n",
            "100100\n",
            "100101\n",
            "100110\n",
            "100111\n",
            "101000\n",
            "101001\n",
            "101010\n",
            "101011\n",
            "101100\n",
            "101101\n",
            "101110\n",
            "101111\n",
            "110000\n",
            "110001\n"
          ]
        }
      ],
      "source": [
        "try:\n",
        "  def base_n(num, n):\n",
        "    res = ''\n",
        "    while num != 0:\n",
        "      rem = num % n\n",
        "      if rem >=10 :\n",
        "        rem = chr(65 + rem - 10)\n",
        "      res = res + str(rem)\n",
        "      num = num // n\n",
        "    if res == \"\": res = \"0\"\n",
        "    return res[::-1]\n",
        "\n",
        "  n = int(input(\"Enter Base N : \"))\n",
        "  if n >= 17: raise ValueError\n",
        "  for num in range(50):\n",
        "    print(base_n(num, n))\n",
        "\n",
        "except ValueError as e:\n",
        "  print('Please enter a value less than 17')"
      ]
    },
    {
      "cell_type": "code",
      "source": [
        "%%writefile -a base-n.py \n",
        "\n",
        "try:\n",
        "  def base_n(num, n):\n",
        "    res = ''\n",
        "    while num != 0:\n",
        "      rem = num % n\n",
        "      if rem >=10 :\n",
        "        rem = chr(65 + rem - 10)\n",
        "      res = res + str(rem)\n",
        "      num = num // n\n",
        "    if res == \"\": res = \"0\"\n",
        "    return res[::-1]\n",
        "\n",
        "  n = int(input(\"Enter Base N : \"))\n",
        "  if n >= 17: raise ValueError\n",
        "  for num in range(50):\n",
        "    print(base_n(num, n))\n",
        "\n",
        "except ValueError as e:\n",
        "  print('Please enter a value less than 17')"
      ],
      "metadata": {
        "colab": {
          "base_uri": "https://localhost:8080/"
        },
        "id": "v9FyiNau3PvL",
        "outputId": "6b6fa6b4-7f56-4fe7-d300-eb4a6f5f994c"
      },
      "execution_count": 10,
      "outputs": [
        {
          "output_type": "stream",
          "name": "stdout",
          "text": [
            "Writing base-n.py\n"
          ]
        }
      ]
    },
    {
      "cell_type": "code",
      "source": [
        "!python base-n.py"
      ],
      "metadata": {
        "colab": {
          "base_uri": "https://localhost:8080/"
        },
        "id": "qHU99j4X4iwz",
        "outputId": "8da23d0c-d6f6-4fbe-8fed-19c6d37ff213"
      },
      "execution_count": 11,
      "outputs": [
        {
          "output_type": "stream",
          "name": "stdout",
          "text": [
            "Enter Base N : 2\n",
            "0\n",
            "1\n",
            "10\n",
            "11\n",
            "100\n",
            "101\n",
            "110\n",
            "111\n",
            "1000\n",
            "1001\n",
            "1010\n",
            "1011\n",
            "1100\n",
            "1101\n",
            "1110\n",
            "1111\n",
            "10000\n",
            "10001\n",
            "10010\n",
            "10011\n",
            "10100\n",
            "10101\n",
            "10110\n",
            "10111\n",
            "11000\n",
            "11001\n",
            "11010\n",
            "11011\n",
            "11100\n",
            "11101\n",
            "11110\n",
            "11111\n",
            "100000\n",
            "100001\n",
            "100010\n",
            "100011\n",
            "100100\n",
            "100101\n",
            "100110\n",
            "100111\n",
            "101000\n",
            "101001\n",
            "101010\n",
            "101011\n",
            "101100\n",
            "101101\n",
            "101110\n",
            "101111\n",
            "110000\n",
            "110001\n"
          ]
        }
      ]
    },
    {
      "cell_type": "code",
      "source": [
        "!python base-n.py"
      ],
      "metadata": {
        "colab": {
          "base_uri": "https://localhost:8080/"
        },
        "id": "nWc12ju44lac",
        "outputId": "c682f989-c4bd-4aae-f69a-995463b0a79b"
      },
      "execution_count": 12,
      "outputs": [
        {
          "output_type": "stream",
          "name": "stdout",
          "text": [
            "Enter Base N : 16\n",
            "0\n",
            "1\n",
            "2\n",
            "3\n",
            "4\n",
            "5\n",
            "6\n",
            "7\n",
            "8\n",
            "9\n",
            "A\n",
            "B\n",
            "C\n",
            "D\n",
            "E\n",
            "F\n",
            "10\n",
            "11\n",
            "12\n",
            "13\n",
            "14\n",
            "15\n",
            "16\n",
            "17\n",
            "18\n",
            "19\n",
            "1A\n",
            "1B\n",
            "1C\n",
            "1D\n",
            "1E\n",
            "1F\n",
            "20\n",
            "21\n",
            "22\n",
            "23\n",
            "24\n",
            "25\n",
            "26\n",
            "27\n",
            "28\n",
            "29\n",
            "2A\n",
            "2B\n",
            "2C\n",
            "2D\n",
            "2E\n",
            "2F\n",
            "30\n",
            "31\n"
          ]
        }
      ]
    },
    {
      "cell_type": "code",
      "source": [
        "!python base-n.py"
      ],
      "metadata": {
        "colab": {
          "base_uri": "https://localhost:8080/"
        },
        "id": "orHziDI04uL5",
        "outputId": "65e13947-8602-42c8-abbb-3eede1d652a9"
      },
      "execution_count": 13,
      "outputs": [
        {
          "output_type": "stream",
          "name": "stdout",
          "text": [
            "Enter Base N : 17\n",
            "Please enter a value less than 17\n"
          ]
        }
      ]
    },
    {
      "cell_type": "code",
      "source": [
        ""
      ],
      "metadata": {
        "id": "0T3flp_z4wQe"
      },
      "execution_count": null,
      "outputs": []
    }
  ]
}