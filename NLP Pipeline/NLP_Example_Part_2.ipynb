{
  "nbformat": 4,
  "nbformat_minor": 0,
  "metadata": {
    "colab": {
      "name": "NLP Example Part 2.ipynb",
      "provenance": [],
      "collapsed_sections": [],
      "authorship_tag": "ABX9TyNvCSP/kW1w87n0CApLjbUL",
      "include_colab_link": true
    },
    "kernelspec": {
      "name": "python3",
      "display_name": "Python 3"
    },
    "language_info": {
      "name": "python"
    }
  },
  "cells": [
    {
      "cell_type": "markdown",
      "metadata": {
        "id": "view-in-github",
        "colab_type": "text"
      },
      "source": [
        "<a href=\"https://colab.research.google.com/github/AC8151/COG_INTERNSHIP_GN22CDBDS001/blob/main/NLP%20Pipeline/NLP_Example_Part_2.ipynb\" target=\"_parent\"><img src=\"https://colab.research.google.com/assets/colab-badge.svg\" alt=\"Open In Colab\"/></a>"
      ]
    },
    {
      "cell_type": "markdown",
      "source": [
        "#NLP Example Part - 2\n",
        "##**Coreference Resolution for NLP Pipeline**\n",
        "> **BY - Aditi Chatterjee**"
      ],
      "metadata": {
        "id": "6d8ulmvjMTPA"
      }
    },
    {
      "cell_type": "markdown",
      "source": [
        "*Previously in PART -1, an NLP pipeline was created. PART - 2 deals with **Coreference Resolution**, which is an optional part in any NLP Pipeline*"
      ],
      "metadata": {
        "id": "atAekK5Belvr"
      }
    },
    {
      "cell_type": "markdown",
      "source": [
        "<img src='https://cdn-images-1.medium.com/max/1024/1*d9lDwTfR8SWiDIcXNza2hQ.png'>"
      ],
      "metadata": {
        "id": "m4fF1PeggEun"
      }
    },
    {
      "cell_type": "markdown",
      "source": [
        "##**1. The text (same file used in PART - 1)**"
      ],
      "metadata": {
        "id": "JFlU4v7AMgg1"
      }
    },
    {
      "cell_type": "code",
      "source": [
        "%%writefile greece.txt\n",
        "Ancient Greece was a civilization that dominated much of the Mediterranean thousands of years ago. At its peak under General Alexander the Great , Ancient Greece ruled much of Europe and western Asia. The Greeks came before the Romans and much of the Roman culture was influenced by them. Ancient Greece formed the foundation of much of Western culture today. Everything from government, to arts, literature, and even sports was influenced by the Greek civilization."
      ],
      "metadata": {
        "colab": {
          "base_uri": "https://localhost:8080/"
        },
        "id": "bG6IGT4SMmw8",
        "outputId": "ed82d50d-8539-4f51-9f01-8f99df5f2992"
      },
      "execution_count": null,
      "outputs": [
        {
          "output_type": "stream",
          "name": "stdout",
          "text": [
            "Writing greece.txt\n"
          ]
        }
      ]
    },
    {
      "cell_type": "markdown",
      "source": [
        "**NOTE:** Coreference resolution in spaCy is implemented using ***neuralcoref***, which requires a lower version of spaCy (***spacy 2.x***).\n",
        "\n",
        "> Thus, spaCy has been ***downgraded*** here to be compatible with neuralcoref"
      ],
      "metadata": {
        "id": "Kx4s6aLTMJfM"
      }
    },
    {
      "cell_type": "markdown",
      "source": [
        "##**2. Installing Neuralcoref & Downgrading Spacy**"
      ],
      "metadata": {
        "id": "435DaSxoMyzp"
      }
    },
    {
      "cell_type": "markdown",
      "source": [
        "*Neuralcoref 4.0.0 works best with SpaCy 2.2.4*"
      ],
      "metadata": {
        "id": "WsixCutxgTh9"
      }
    },
    {
      "cell_type": "code",
      "source": [
        "#import shutil\n",
        "#shutil.rmtree('/content/neuralcoref', ignore_errors=True)"
      ],
      "metadata": {
        "id": "vYJ898CvvUs2"
      },
      "execution_count": null,
      "outputs": []
    },
    {
      "cell_type": "markdown",
      "source": [
        "###**2.1. Neuralcoref**"
      ],
      "metadata": {
        "id": "VWXbZDVsQWmQ"
      }
    },
    {
      "cell_type": "code",
      "source": [
        "!git clone https://github.com/huggingface/neuralcoref.git\n"
      ],
      "metadata": {
        "colab": {
          "base_uri": "https://localhost:8080/"
        },
        "id": "MZtTlC-7Gc4U",
        "outputId": "6ead605d-ed69-4845-db15-fa4b0915a516"
      },
      "execution_count": null,
      "outputs": [
        {
          "output_type": "stream",
          "name": "stdout",
          "text": [
            "Cloning into 'neuralcoref'...\n",
            "remote: Enumerating objects: 772, done.\u001b[K\n",
            "remote: Counting objects: 100% (24/24), done.\u001b[K\n",
            "remote: Compressing objects: 100% (22/22), done.\u001b[K\n",
            "remote: Total 772 (delta 10), reused 5 (delta 1), pack-reused 748\u001b[K\n",
            "Receiving objects: 100% (772/772), 67.85 MiB | 29.13 MiB/s, done.\n",
            "Resolving deltas: 100% (407/407), done.\n"
          ]
        }
      ]
    },
    {
      "cell_type": "code",
      "source": [
        "cd neuralcoref\n"
      ],
      "metadata": {
        "colab": {
          "base_uri": "https://localhost:8080/"
        },
        "id": "UhnIsxdYGgOy",
        "outputId": "d04d73a2-767e-47d9-baa0-f2381989cd81"
      },
      "execution_count": null,
      "outputs": [
        {
          "output_type": "stream",
          "name": "stdout",
          "text": [
            "/content/neuralcoref\n"
          ]
        }
      ]
    },
    {
      "cell_type": "code",
      "source": [
        "pip install -r requirements.txt\n"
      ],
      "metadata": {
        "colab": {
          "base_uri": "https://localhost:8080/"
        },
        "id": "FYNrWbdHGjHF",
        "outputId": "12abe461-e0ff-4e10-8000-39754545b925"
      },
      "execution_count": null,
      "outputs": [
        {
          "output_type": "stream",
          "name": "stdout",
          "text": [
            "Requirement already satisfied: spacy<3.0.0,>=2.1.0 in /usr/local/lib/python3.7/dist-packages (from -r requirements.txt (line 1)) (2.2.4)\n",
            "Requirement already satisfied: cython>=0.25 in /usr/local/lib/python3.7/dist-packages (from -r requirements.txt (line 2)) (0.29.28)\n",
            "Requirement already satisfied: pytest in /usr/local/lib/python3.7/dist-packages (from -r requirements.txt (line 3)) (3.6.4)\n",
            "Requirement already satisfied: wasabi<1.1.0,>=0.4.0 in /usr/local/lib/python3.7/dist-packages (from spacy<3.0.0,>=2.1.0->-r requirements.txt (line 1)) (0.9.0)\n",
            "Requirement already satisfied: srsly<1.1.0,>=1.0.2 in /usr/local/lib/python3.7/dist-packages (from spacy<3.0.0,>=2.1.0->-r requirements.txt (line 1)) (1.0.5)\n",
            "Requirement already satisfied: plac<1.2.0,>=0.9.6 in /usr/local/lib/python3.7/dist-packages (from spacy<3.0.0,>=2.1.0->-r requirements.txt (line 1)) (1.1.3)\n",
            "Requirement already satisfied: murmurhash<1.1.0,>=0.28.0 in /usr/local/lib/python3.7/dist-packages (from spacy<3.0.0,>=2.1.0->-r requirements.txt (line 1)) (1.0.6)\n",
            "Requirement already satisfied: numpy>=1.15.0 in /usr/local/lib/python3.7/dist-packages (from spacy<3.0.0,>=2.1.0->-r requirements.txt (line 1)) (1.21.5)\n",
            "Requirement already satisfied: tqdm<5.0.0,>=4.38.0 in /usr/local/lib/python3.7/dist-packages (from spacy<3.0.0,>=2.1.0->-r requirements.txt (line 1)) (4.63.0)\n",
            "Requirement already satisfied: setuptools in /usr/local/lib/python3.7/dist-packages (from spacy<3.0.0,>=2.1.0->-r requirements.txt (line 1)) (57.4.0)\n",
            "Requirement already satisfied: cymem<2.1.0,>=2.0.2 in /usr/local/lib/python3.7/dist-packages (from spacy<3.0.0,>=2.1.0->-r requirements.txt (line 1)) (2.0.6)\n",
            "Requirement already satisfied: catalogue<1.1.0,>=0.0.7 in /usr/local/lib/python3.7/dist-packages (from spacy<3.0.0,>=2.1.0->-r requirements.txt (line 1)) (1.0.0)\n",
            "Requirement already satisfied: blis<0.5.0,>=0.4.0 in /usr/local/lib/python3.7/dist-packages (from spacy<3.0.0,>=2.1.0->-r requirements.txt (line 1)) (0.4.1)\n",
            "Requirement already satisfied: thinc==7.4.0 in /usr/local/lib/python3.7/dist-packages (from spacy<3.0.0,>=2.1.0->-r requirements.txt (line 1)) (7.4.0)\n",
            "Requirement already satisfied: requests<3.0.0,>=2.13.0 in /usr/local/lib/python3.7/dist-packages (from spacy<3.0.0,>=2.1.0->-r requirements.txt (line 1)) (2.23.0)\n",
            "Requirement already satisfied: preshed<3.1.0,>=3.0.2 in /usr/local/lib/python3.7/dist-packages (from spacy<3.0.0,>=2.1.0->-r requirements.txt (line 1)) (3.0.6)\n",
            "Requirement already satisfied: importlib-metadata>=0.20 in /usr/local/lib/python3.7/dist-packages (from catalogue<1.1.0,>=0.0.7->spacy<3.0.0,>=2.1.0->-r requirements.txt (line 1)) (4.11.3)\n",
            "Requirement already satisfied: typing-extensions>=3.6.4 in /usr/local/lib/python3.7/dist-packages (from importlib-metadata>=0.20->catalogue<1.1.0,>=0.0.7->spacy<3.0.0,>=2.1.0->-r requirements.txt (line 1)) (3.10.0.2)\n",
            "Requirement already satisfied: zipp>=0.5 in /usr/local/lib/python3.7/dist-packages (from importlib-metadata>=0.20->catalogue<1.1.0,>=0.0.7->spacy<3.0.0,>=2.1.0->-r requirements.txt (line 1)) (3.7.0)\n",
            "Requirement already satisfied: urllib3!=1.25.0,!=1.25.1,<1.26,>=1.21.1 in /usr/local/lib/python3.7/dist-packages (from requests<3.0.0,>=2.13.0->spacy<3.0.0,>=2.1.0->-r requirements.txt (line 1)) (1.24.3)\n",
            "Requirement already satisfied: chardet<4,>=3.0.2 in /usr/local/lib/python3.7/dist-packages (from requests<3.0.0,>=2.13.0->spacy<3.0.0,>=2.1.0->-r requirements.txt (line 1)) (3.0.4)\n",
            "Requirement already satisfied: idna<3,>=2.5 in /usr/local/lib/python3.7/dist-packages (from requests<3.0.0,>=2.13.0->spacy<3.0.0,>=2.1.0->-r requirements.txt (line 1)) (2.10)\n",
            "Requirement already satisfied: certifi>=2017.4.17 in /usr/local/lib/python3.7/dist-packages (from requests<3.0.0,>=2.13.0->spacy<3.0.0,>=2.1.0->-r requirements.txt (line 1)) (2021.10.8)\n",
            "Requirement already satisfied: pluggy<0.8,>=0.5 in /usr/local/lib/python3.7/dist-packages (from pytest->-r requirements.txt (line 3)) (0.7.1)\n",
            "Requirement already satisfied: py>=1.5.0 in /usr/local/lib/python3.7/dist-packages (from pytest->-r requirements.txt (line 3)) (1.11.0)\n",
            "Requirement already satisfied: more-itertools>=4.0.0 in /usr/local/lib/python3.7/dist-packages (from pytest->-r requirements.txt (line 3)) (8.12.0)\n",
            "Requirement already satisfied: attrs>=17.4.0 in /usr/local/lib/python3.7/dist-packages (from pytest->-r requirements.txt (line 3)) (21.4.0)\n",
            "Requirement already satisfied: atomicwrites>=1.0 in /usr/local/lib/python3.7/dist-packages (from pytest->-r requirements.txt (line 3)) (1.4.0)\n",
            "Requirement already satisfied: six>=1.10.0 in /usr/local/lib/python3.7/dist-packages (from pytest->-r requirements.txt (line 3)) (1.15.0)\n"
          ]
        }
      ]
    },
    {
      "cell_type": "code",
      "source": [
        "pip install -e ."
      ],
      "metadata": {
        "colab": {
          "base_uri": "https://localhost:8080/"
        },
        "id": "Oyr2dipOG0US",
        "outputId": "c025ff58-11dd-4df9-e2d7-cc6e1f0b4741"
      },
      "execution_count": null,
      "outputs": [
        {
          "output_type": "stream",
          "name": "stdout",
          "text": [
            "Obtaining file:///content/neuralcoref\n",
            "Requirement already satisfied: numpy>=1.15.0 in /usr/local/lib/python3.7/dist-packages (from neuralcoref==4.0) (1.21.5)\n",
            "Collecting boto3\n",
            "  Downloading boto3-1.21.39-py3-none-any.whl (132 kB)\n",
            "\u001b[K     |████████████████████████████████| 132 kB 5.1 MB/s \n",
            "\u001b[?25hRequirement already satisfied: requests<3.0.0,>=2.13.0 in /usr/local/lib/python3.7/dist-packages (from neuralcoref==4.0) (2.23.0)\n",
            "Requirement already satisfied: spacy<3.0.0,>=2.1.0 in /usr/local/lib/python3.7/dist-packages (from neuralcoref==4.0) (2.2.4)\n",
            "Requirement already satisfied: chardet<4,>=3.0.2 in /usr/local/lib/python3.7/dist-packages (from requests<3.0.0,>=2.13.0->neuralcoref==4.0) (3.0.4)\n",
            "Requirement already satisfied: certifi>=2017.4.17 in /usr/local/lib/python3.7/dist-packages (from requests<3.0.0,>=2.13.0->neuralcoref==4.0) (2021.10.8)\n",
            "Requirement already satisfied: urllib3!=1.25.0,!=1.25.1,<1.26,>=1.21.1 in /usr/local/lib/python3.7/dist-packages (from requests<3.0.0,>=2.13.0->neuralcoref==4.0) (1.24.3)\n",
            "Requirement already satisfied: idna<3,>=2.5 in /usr/local/lib/python3.7/dist-packages (from requests<3.0.0,>=2.13.0->neuralcoref==4.0) (2.10)\n",
            "Requirement already satisfied: murmurhash<1.1.0,>=0.28.0 in /usr/local/lib/python3.7/dist-packages (from spacy<3.0.0,>=2.1.0->neuralcoref==4.0) (1.0.6)\n",
            "Requirement already satisfied: catalogue<1.1.0,>=0.0.7 in /usr/local/lib/python3.7/dist-packages (from spacy<3.0.0,>=2.1.0->neuralcoref==4.0) (1.0.0)\n",
            "Requirement already satisfied: cymem<2.1.0,>=2.0.2 in /usr/local/lib/python3.7/dist-packages (from spacy<3.0.0,>=2.1.0->neuralcoref==4.0) (2.0.6)\n",
            "Requirement already satisfied: blis<0.5.0,>=0.4.0 in /usr/local/lib/python3.7/dist-packages (from spacy<3.0.0,>=2.1.0->neuralcoref==4.0) (0.4.1)\n",
            "Requirement already satisfied: tqdm<5.0.0,>=4.38.0 in /usr/local/lib/python3.7/dist-packages (from spacy<3.0.0,>=2.1.0->neuralcoref==4.0) (4.63.0)\n",
            "Requirement already satisfied: setuptools in /usr/local/lib/python3.7/dist-packages (from spacy<3.0.0,>=2.1.0->neuralcoref==4.0) (57.4.0)\n",
            "Requirement already satisfied: plac<1.2.0,>=0.9.6 in /usr/local/lib/python3.7/dist-packages (from spacy<3.0.0,>=2.1.0->neuralcoref==4.0) (1.1.3)\n",
            "Requirement already satisfied: thinc==7.4.0 in /usr/local/lib/python3.7/dist-packages (from spacy<3.0.0,>=2.1.0->neuralcoref==4.0) (7.4.0)\n",
            "Requirement already satisfied: preshed<3.1.0,>=3.0.2 in /usr/local/lib/python3.7/dist-packages (from spacy<3.0.0,>=2.1.0->neuralcoref==4.0) (3.0.6)\n",
            "Requirement already satisfied: wasabi<1.1.0,>=0.4.0 in /usr/local/lib/python3.7/dist-packages (from spacy<3.0.0,>=2.1.0->neuralcoref==4.0) (0.9.0)\n",
            "Requirement already satisfied: srsly<1.1.0,>=1.0.2 in /usr/local/lib/python3.7/dist-packages (from spacy<3.0.0,>=2.1.0->neuralcoref==4.0) (1.0.5)\n",
            "Requirement already satisfied: importlib-metadata>=0.20 in /usr/local/lib/python3.7/dist-packages (from catalogue<1.1.0,>=0.0.7->spacy<3.0.0,>=2.1.0->neuralcoref==4.0) (4.11.3)\n",
            "Requirement already satisfied: typing-extensions>=3.6.4 in /usr/local/lib/python3.7/dist-packages (from importlib-metadata>=0.20->catalogue<1.1.0,>=0.0.7->spacy<3.0.0,>=2.1.0->neuralcoref==4.0) (3.10.0.2)\n",
            "Requirement already satisfied: zipp>=0.5 in /usr/local/lib/python3.7/dist-packages (from importlib-metadata>=0.20->catalogue<1.1.0,>=0.0.7->spacy<3.0.0,>=2.1.0->neuralcoref==4.0) (3.7.0)\n",
            "Collecting s3transfer<0.6.0,>=0.5.0\n",
            "  Downloading s3transfer-0.5.2-py3-none-any.whl (79 kB)\n",
            "\u001b[K     |████████████████████████████████| 79 kB 5.4 MB/s \n",
            "\u001b[?25hCollecting jmespath<2.0.0,>=0.7.1\n",
            "  Downloading jmespath-1.0.0-py3-none-any.whl (23 kB)\n",
            "Collecting botocore<1.25.0,>=1.24.39\n",
            "  Downloading botocore-1.24.39-py3-none-any.whl (8.7 MB)\n",
            "\u001b[K     |████████████████████████████████| 8.7 MB 34.7 MB/s \n",
            "\u001b[?25hCollecting urllib3!=1.25.0,!=1.25.1,<1.26,>=1.21.1\n",
            "  Downloading urllib3-1.25.11-py2.py3-none-any.whl (127 kB)\n",
            "\u001b[K     |████████████████████████████████| 127 kB 63.3 MB/s \n",
            "\u001b[?25hRequirement already satisfied: python-dateutil<3.0.0,>=2.1 in /usr/local/lib/python3.7/dist-packages (from botocore<1.25.0,>=1.24.39->boto3->neuralcoref==4.0) (2.8.2)\n",
            "Requirement already satisfied: six>=1.5 in /usr/local/lib/python3.7/dist-packages (from python-dateutil<3.0.0,>=2.1->botocore<1.25.0,>=1.24.39->boto3->neuralcoref==4.0) (1.15.0)\n",
            "Installing collected packages: urllib3, jmespath, botocore, s3transfer, boto3, neuralcoref\n",
            "  Attempting uninstall: urllib3\n",
            "    Found existing installation: urllib3 1.24.3\n",
            "    Uninstalling urllib3-1.24.3:\n",
            "      Successfully uninstalled urllib3-1.24.3\n",
            "  Running setup.py develop for neuralcoref\n",
            "\u001b[31mERROR: pip's dependency resolver does not currently take into account all the packages that are installed. This behaviour is the source of the following dependency conflicts.\n",
            "datascience 0.10.6 requires folium==0.2.1, but you have folium 0.8.3 which is incompatible.\u001b[0m\n",
            "Successfully installed boto3-1.21.39 botocore-1.24.39 jmespath-1.0.0 neuralcoref-4.0 s3transfer-0.5.2 urllib3-1.25.11\n"
          ]
        }
      ]
    },
    {
      "cell_type": "markdown",
      "source": [
        "###**2.2. Spacy & En_Core_Web_Sm**"
      ],
      "metadata": {
        "id": "UHeoHR98Qag-"
      }
    },
    {
      "cell_type": "markdown",
      "source": [
        "*SpaCy automatically downgraded based on compatibility with Neuralcoref 4.0.0*"
      ],
      "metadata": {
        "id": "D5QpgEkogisM"
      }
    },
    {
      "cell_type": "code",
      "source": [
        "pip show spacy \n",
        "# run this one more time if warning (in yellow) arises in executing next cell\n",
        "# then run next cell again"
      ],
      "metadata": {
        "colab": {
          "base_uri": "https://localhost:8080/"
        },
        "id": "vWHKkwEkG89i",
        "outputId": "5481b9ec-5053-4f06-dce2-5b41a1ab864d"
      },
      "execution_count": null,
      "outputs": [
        {
          "output_type": "stream",
          "name": "stdout",
          "text": [
            "Name: spacy\n",
            "Version: 2.2.4\n",
            "Summary: Industrial-strength Natural Language Processing (NLP) in Python\n",
            "Home-page: https://spacy.io\n",
            "Author: Explosion\n",
            "Author-email: contact@explosion.ai\n",
            "License: MIT\n",
            "Location: /usr/local/lib/python3.7/dist-packages\n",
            "Requires: preshed, blis, plac, requests, murmurhash, catalogue, thinc, numpy, wasabi, tqdm, srsly, cymem, setuptools\n",
            "Required-by: fastai, en-core-web-sm, neuralcoref\n"
          ]
        }
      ]
    },
    {
      "cell_type": "code",
      "source": [
        "import spacy.cli\n",
        "\n",
        "spacy.cli.download(\"en_core_web_lg\")"
      ],
      "metadata": {
        "colab": {
          "base_uri": "https://localhost:8080/"
        },
        "id": "xWWXywmhHHvI",
        "outputId": "3fe2c284-67c7-4015-fcdd-89c6eed2bc7d"
      },
      "execution_count": null,
      "outputs": [
        {
          "output_type": "stream",
          "name": "stdout",
          "text": [
            "\u001b[38;5;2m✔ Download and installation successful\u001b[0m\n",
            "You can now load the model via spacy.load('en_core_web_lg')\n"
          ]
        }
      ]
    },
    {
      "cell_type": "markdown",
      "source": [
        "##**3. Importing Libraries**"
      ],
      "metadata": {
        "id": "l_6zA2tUQjAM"
      }
    },
    {
      "cell_type": "code",
      "source": [
        "#nlp.remove_pipe('neuralcoref')"
      ],
      "metadata": {
        "id": "TsgoEdiGmPzl"
      },
      "execution_count": null,
      "outputs": []
    },
    {
      "cell_type": "code",
      "execution_count": null,
      "metadata": {
        "id": "B8U7KDMl9zin",
        "colab": {
          "base_uri": "https://localhost:8080/"
        },
        "outputId": "69d4d571-3e08-4e5c-b73c-337ae9bc9319"
      },
      "outputs": [
        {
          "output_type": "stream",
          "name": "stderr",
          "text": [
            "100%|██████████| 40155833/40155833 [00:00<00:00, 43437766.86B/s]\n"
          ]
        }
      ],
      "source": [
        "import spacy\n",
        "import neuralcoref\n",
        "\n",
        "# load model\n",
        "nlp = spacy.load('en_core_web_lg')\n",
        "\n",
        "# add spacy model to neuralcoref pipeline\n",
        "coref = neuralcoref.NeuralCoref(nlp.vocab)\n",
        "nlp.add_pipe(coref, name='neuralcoref')"
      ]
    },
    {
      "cell_type": "markdown",
      "source": [
        "##**4. Reading text file**"
      ],
      "metadata": {
        "id": "IkuEnVvYQ1LE"
      }
    },
    {
      "cell_type": "code",
      "source": [
        "f = open('/content/greece.txt', 'r') \n",
        "text = f.read()\n",
        "doc = nlp(text)\n",
        "print(doc)"
      ],
      "metadata": {
        "id": "yqxXtjk0C5Jt",
        "colab": {
          "base_uri": "https://localhost:8080/"
        },
        "outputId": "25467745-e222-4a3d-808c-5708c1605508"
      },
      "execution_count": null,
      "outputs": [
        {
          "output_type": "stream",
          "name": "stdout",
          "text": [
            "Ancient Greece was a civilization that dominated much of the Mediterranean thousands of years ago. At its peak under General Alexander the Great , Ancient Greece ruled much of Europe and western Asia. The Greeks came before the Romans and much of the Roman culture was influenced by them. Ancient Greece formed the foundation of much of Western culture today. Everything from government, to arts, literature, and even sports was influenced by the Greek civilization.\n"
          ]
        }
      ]
    },
    {
      "cell_type": "markdown",
      "source": [
        "##**5.** \n",
        "### **STEP 9: Performing Coreference Resolution**"
      ],
      "metadata": {
        "id": "DOZAFNhmQ4vs"
      }
    },
    {
      "cell_type": "markdown",
      "source": [
        "*Check if text has any coreference resolutions*"
      ],
      "metadata": {
        "id": "FYTQ-F6dRAtw"
      }
    },
    {
      "cell_type": "code",
      "source": [
        "print('Coreferences Present:',doc._.has_coref)"
      ],
      "metadata": {
        "colab": {
          "base_uri": "https://localhost:8080/"
        },
        "id": "SdlD7lHE_B7t",
        "outputId": "64bac1c6-b48c-4481-a390-3be21280d6eb"
      },
      "execution_count": null,
      "outputs": [
        {
          "output_type": "stream",
          "name": "stdout",
          "text": [
            "Coreferences Present: True\n"
          ]
        }
      ]
    },
    {
      "cell_type": "markdown",
      "source": [
        "*It has! Proceed to show clusters where these resolutions happen*"
      ],
      "metadata": {
        "id": "BOsv2naQRIBs"
      }
    },
    {
      "cell_type": "code",
      "source": [
        "print('COREFERENCES OCCUR HERE:')\n",
        "og_doc = doc._.coref_clusters\n",
        "for cluster in og_doc:\n",
        "  print(cluster)"
      ],
      "metadata": {
        "colab": {
          "base_uri": "https://localhost:8080/"
        },
        "id": "an9Mhs7ABRjV",
        "outputId": "8ccc228b-ffc7-4e44-a3ad-52e244d2fe07"
      },
      "execution_count": null,
      "outputs": [
        {
          "output_type": "stream",
          "name": "stdout",
          "text": [
            "COREFERENCES OCCUR HERE:\n",
            "Ancient Greece: [Ancient Greece, its, Ancient Greece, Ancient Greece]\n",
            "The Greeks: [The Greeks, them]\n"
          ]
        }
      ]
    },
    {
      "cell_type": "markdown",
      "source": [
        "*ACTUAL Coreference Resolution*"
      ],
      "metadata": {
        "id": "ljPB_9m1RP7_"
      }
    },
    {
      "cell_type": "code",
      "source": [
        "resolved_doc = doc._.coref_resolved\n",
        "print('COREFERENCES RESOLVED:')\n",
        "print(resolved_doc)"
      ],
      "metadata": {
        "colab": {
          "base_uri": "https://localhost:8080/"
        },
        "id": "Vy4heZEFCOiK",
        "outputId": "a63a4ead-07ab-4bb3-c9a2-d0035fbd0fe0"
      },
      "execution_count": null,
      "outputs": [
        {
          "output_type": "stream",
          "name": "stdout",
          "text": [
            "COREFERENCES RESOLVED:\n",
            "Ancient Greece was a civilization that dominated much of the Mediterranean thousands of years ago. At Ancient Greece peak under General Alexander the Great , Ancient Greece ruled much of Europe and western Asia. The Greeks came before the Romans and much of the Roman culture was influenced by The Greeks. Ancient Greece formed the foundation of much of Western culture today. Everything from government, to arts, literature, and even sports was influenced by the Greek civilization.\n"
          ]
        }
      ]
    },
    {
      "cell_type": "markdown",
      "source": [
        "*Et Voila! The coreferences have been resolved successfully*"
      ],
      "metadata": {
        "id": "YdOp-CZER5Xr"
      }
    },
    {
      "cell_type": "markdown",
      "source": [
        "# **END OF PART - 2**"
      ],
      "metadata": {
        "id": "DSPQwt83nsqB"
      }
    }
  ]
}