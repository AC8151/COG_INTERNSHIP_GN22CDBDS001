{
  "nbformat": 4,
  "nbformat_minor": 0,
  "metadata": {
    "colab": {
      "name": "write-file-demo.ipynb",
      "provenance": [],
      "authorship_tag": "ABX9TyMyHeTG3nAsrlgqs4hnG9bD",
      "include_colab_link": true
    },
    "kernelspec": {
      "name": "python3",
      "display_name": "Python 3"
    },
    "language_info": {
      "name": "python"
    }
  },
  "cells": [
    {
      "cell_type": "markdown",
      "metadata": {
        "id": "view-in-github",
        "colab_type": "text"
      },
      "source": [
        "<a href=\"https://colab.research.google.com/github/AC8151/COG_INTERNSHIP_GN22CDBDS001/blob/main/write_file_demo.ipynb\" target=\"_parent\"><img src=\"https://colab.research.google.com/assets/colab-badge.svg\" alt=\"Open In Colab\"/></a>"
      ]
    },
    {
      "cell_type": "code",
      "execution_count": 11,
      "metadata": {
        "colab": {
          "base_uri": "https://localhost:8080/"
        },
        "id": "hP8_vbfntGly",
        "outputId": "50c95e1b-85b1-4cc3-c043-8d17b119f1c9"
      },
      "outputs": [
        {
          "output_type": "stream",
          "name": "stdout",
          "text": [
            "Overwriting truth_table.py\n"
          ]
        }
      ],
      "source": [
        "%%writefile truth_table.py\n",
        "\n",
        "import itertools\n",
        "n = int(input('Enter N: '))\n",
        "print('Truth Table for N = {}'.format(n))\n",
        "table = list(itertools.product([0,1], repeat=n))\n",
        "print(table)\n"
      ]
    },
    {
      "cell_type": "code",
      "source": [
        "!python truth_table.py"
      ],
      "metadata": {
        "colab": {
          "base_uri": "https://localhost:8080/"
        },
        "id": "NEU3KFTatIe3",
        "outputId": "267ea9f3-125a-4e6a-b258-440eda8109ae"
      },
      "execution_count": 12,
      "outputs": [
        {
          "output_type": "stream",
          "name": "stdout",
          "text": [
            "Enter N: 3\n",
            "Truth Table for N = 3\n",
            "[(0, 0, 0), (0, 0, 1), (0, 1, 0), (0, 1, 1), (1, 0, 0), (1, 0, 1), (1, 1, 0), (1, 1, 1)]\n"
          ]
        }
      ]
    },
    {
      "cell_type": "code",
      "source": [
        "%%writefile -a truth_table.py\n",
        "\n",
        "print('Appended something new to file')"
      ],
      "metadata": {
        "colab": {
          "base_uri": "https://localhost:8080/"
        },
        "id": "UYU6Z5UAtyF-",
        "outputId": "4ede65c7-c665-4ac6-9224-85c593f1a812"
      },
      "execution_count": 13,
      "outputs": [
        {
          "output_type": "stream",
          "name": "stdout",
          "text": [
            "Appending to truth_table.py\n"
          ]
        }
      ]
    },
    {
      "cell_type": "code",
      "source": [
        "!python truth_table.py"
      ],
      "metadata": {
        "colab": {
          "base_uri": "https://localhost:8080/"
        },
        "id": "wtu-zy5fuj-l",
        "outputId": "11da26d6-02e1-494d-e492-35e43d210f79"
      },
      "execution_count": 14,
      "outputs": [
        {
          "output_type": "stream",
          "name": "stdout",
          "text": [
            "Enter N: 4\n",
            "Truth Table for N = 4\n",
            "[(0, 0, 0, 0), (0, 0, 0, 1), (0, 0, 1, 0), (0, 0, 1, 1), (0, 1, 0, 0), (0, 1, 0, 1), (0, 1, 1, 0), (0, 1, 1, 1), (1, 0, 0, 0), (1, 0, 0, 1), (1, 0, 1, 0), (1, 0, 1, 1), (1, 1, 0, 0), (1, 1, 0, 1), (1, 1, 1, 0), (1, 1, 1, 1)]\n",
            "Appended something new to file\n"
          ]
        }
      ]
    },
    {
      "cell_type": "code",
      "source": [
        ""
      ],
      "metadata": {
        "id": "WCs9Ly1juluo"
      },
      "execution_count": null,
      "outputs": []
    }
  ]
}